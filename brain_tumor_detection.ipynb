{
 "cells": [
  {
   "cell_type": "code",
   "execution_count": 5,
   "metadata": {},
   "outputs": [],
   "source": [
    "import numpy as np\n",
    "import pandas as pd\n",
    "import math\n",
    "import cv2\n",
    "import matplotlib.pyplot as plt\n",
    "import os\n",
    "import seaborn as sns\n",
    "import umap\n",
    "from PIL import Image\n",
    "from scipy import misc\n",
    "from os import listdir\n",
    "from os.path import isfile,join\n",
    "from random import shuffle \n",
    "from collections import Counter\n",
    "from sklearn.decomposition import PCA\n",
    "from sklearn.manifold import TSNE\n",
    "import tensorflow as ft\n",
    "from keras.models import Sequential \n",
    "from keras.layers import Conv2D,MaxPooling2D\n",
    "from keras.layers import Activation,Dropout,Flatten,Dense\n",
    "from keras.utils.np_utils import to_categorical\n"
   ]
  },
  {
   "cell_type": "code",
   "execution_count": 6,
   "metadata": {},
   "outputs": [
    {
     "data": {
      "text/plain": [
       "['NO', 'yes']"
      ]
     },
     "execution_count": 6,
     "metadata": {},
     "output_type": "execute_result"
    }
   ],
   "source": [
    "os.listdir('./brain_tumor_dataset')"
   ]
  },
  {
   "cell_type": "code",
   "execution_count": 18,
   "metadata": {},
   "outputs": [],
   "source": [
    "img=Image.open('../brain_tumor_dataset/No/1.jpeg').resize((128,128))\n"
   ]
  },
  {
   "cell_type": "code",
   "execution_count": 19,
   "metadata": {
    "collapsed": true
   },
   "outputs": [],
   "source": [
    "yes=os.listdir('./brain_tumor_dataset/yes/')"
   ]
  },
  {
   "cell_type": "code",
   "execution_count": 20,
   "metadata": {},
   "outputs": [
    {
     "data": {
      "text/plain": [
       "['Y1.jpg',\n",
       " 'Y10.jpg',\n",
       " 'Y100.JPG',\n",
       " 'Y101.jpg',\n",
       " 'Y102.jpg',\n",
       " 'Y103.jpg',\n",
       " 'Y104.jpg',\n",
       " 'Y105.jpg',\n",
       " 'Y106.jpg',\n",
       " 'Y107.jpg',\n",
       " 'Y108.jpg',\n",
       " 'Y109.JPG',\n",
       " 'Y11.jpg',\n",
       " 'Y111.JPG',\n",
       " 'Y112.JPG',\n",
       " 'Y113.JPG',\n",
       " 'Y114.JPG',\n",
       " 'Y115.JPG',\n",
       " 'Y116.JPG',\n",
       " 'Y117.JPG',\n",
       " 'Y12.jpg',\n",
       " 'Y120.JPG',\n",
       " 'Y13.jpg',\n",
       " 'Y14.jpg',\n",
       " 'Y146.JPG',\n",
       " 'Y147.JPG',\n",
       " 'Y148.JPG',\n",
       " 'Y15.jpg',\n",
       " 'Y153.jpg',\n",
       " 'Y154.jpg',\n",
       " 'Y155.JPG',\n",
       " 'Y156.JPG',\n",
       " 'Y157.JPG',\n",
       " 'Y158.JPG',\n",
       " 'Y159.JPG',\n",
       " 'Y16.JPG',\n",
       " 'Y160.JPG',\n",
       " 'Y161.JPG',\n",
       " 'Y162.jpg',\n",
       " 'Y163.JPG',\n",
       " 'Y164.JPG',\n",
       " 'Y165.JPG',\n",
       " 'Y166.JPG',\n",
       " 'Y167.JPG',\n",
       " 'Y168.jpg',\n",
       " 'Y169.jpg',\n",
       " 'Y17.jpg',\n",
       " 'Y170.JPG',\n",
       " 'Y18.JPG',\n",
       " 'Y180.jpg',\n",
       " 'Y181.jpg',\n",
       " 'Y182.JPG',\n",
       " 'Y183.jpg',\n",
       " 'Y184.JPG',\n",
       " 'Y185.jpg',\n",
       " 'Y186.jpg',\n",
       " 'Y187.jpg',\n",
       " 'Y188.jpg',\n",
       " 'Y19.JPG',\n",
       " 'Y192.JPG',\n",
       " 'Y193.JPG',\n",
       " 'Y194.jpg',\n",
       " 'Y195.JPG',\n",
       " 'Y2.jpg',\n",
       " 'Y20.jpg',\n",
       " 'Y21.jpg',\n",
       " 'Y22.jpg',\n",
       " 'Y23.JPG',\n",
       " 'Y24.jpg',\n",
       " 'Y242.JPG',\n",
       " 'Y243.JPG',\n",
       " 'Y244.JPG',\n",
       " 'Y245.jpg',\n",
       " 'Y246.JPG',\n",
       " 'Y247.JPG',\n",
       " 'Y248.JPG',\n",
       " 'Y249.JPG',\n",
       " 'Y25.jpg',\n",
       " 'Y250.jpg',\n",
       " 'Y251.JPG',\n",
       " 'Y252.jpg',\n",
       " 'Y253.JPG',\n",
       " 'Y254.jpg',\n",
       " 'Y255.JPG',\n",
       " 'Y256.JPG',\n",
       " 'Y257.jpg',\n",
       " 'Y258.JPG',\n",
       " 'Y259.JPG',\n",
       " 'Y26.jpg',\n",
       " 'Y27.jpg',\n",
       " 'Y28.jpg',\n",
       " 'Y29.jpg',\n",
       " 'Y3.jpg',\n",
       " 'Y30.jpg',\n",
       " 'Y31.jpg',\n",
       " 'Y32.jpg',\n",
       " 'Y33.jpg',\n",
       " 'Y34.jpg',\n",
       " 'Y35.jpg',\n",
       " 'Y36.JPG',\n",
       " 'Y37.jpg',\n",
       " 'Y38.jpg',\n",
       " 'Y39.jpg',\n",
       " 'Y4.jpg',\n",
       " 'Y40.JPG',\n",
       " 'Y41.jpg',\n",
       " 'Y42.jpg',\n",
       " 'Y44.JPG',\n",
       " 'Y45.JPG',\n",
       " 'Y46.jpg',\n",
       " 'Y47.JPG',\n",
       " 'Y49.JPG',\n",
       " 'Y50.JPG',\n",
       " 'Y51.jpg',\n",
       " 'Y52.jpg',\n",
       " 'Y53.jpg',\n",
       " 'Y54.jpg',\n",
       " 'Y55.jpg',\n",
       " 'Y56.jpg',\n",
       " 'Y58.JPG',\n",
       " 'Y59.JPG',\n",
       " 'Y6.jpg',\n",
       " 'Y60.jpg',\n",
       " 'Y61.jpg',\n",
       " 'Y62.jpg',\n",
       " 'Y65.JPG',\n",
       " 'Y66.JPG',\n",
       " 'Y67.JPG',\n",
       " 'Y69.jpg',\n",
       " 'Y7.jpg',\n",
       " 'Y70.jpg',\n",
       " 'Y71.JPG',\n",
       " 'Y73.jpg',\n",
       " 'Y74.jpg',\n",
       " 'Y75.JPG',\n",
       " 'Y76.jpg',\n",
       " 'Y77.jpg',\n",
       " 'Y78.jpg',\n",
       " 'Y79.jpg',\n",
       " 'Y8.jpg',\n",
       " 'Y81.jpg',\n",
       " 'Y82.jpg',\n",
       " 'Y85.JPG',\n",
       " 'Y86.JPG',\n",
       " 'Y89.JPG',\n",
       " 'Y9.jpg',\n",
       " 'Y90.jpg',\n",
       " 'Y91.jpg',\n",
       " 'Y92.jpg',\n",
       " 'Y92.png',\n",
       " 'Y95.jpg',\n",
       " 'Y96.jpg',\n",
       " 'Y97.JPG',\n",
       " 'Y98.JPG',\n",
       " 'Y99.JPG']"
      ]
     },
     "execution_count": 20,
     "metadata": {},
     "output_type": "execute_result"
    }
   ],
   "source": [
    "yes"
   ]
  },
  {
   "cell_type": "code",
   "execution_count": 21,
   "metadata": {
    "collapsed": true
   },
   "outputs": [],
   "source": [
    "no=os.listdir('./brain_tumor_dataset/No/')"
   ]
  },
  {
   "cell_type": "code",
   "execution_count": 23,
   "metadata": {
    "collapsed": true
   },
   "outputs": [],
   "source": [
    "data=np.concatenate([yes,no])"
   ]
  },
  {
   "cell_type": "code",
   "execution_count": 25,
   "metadata": {},
   "outputs": [
    {
     "data": {
      "text/plain": [
       "(253,)"
      ]
     },
     "execution_count": 25,
     "metadata": {},
     "output_type": "execute_result"
    }
   ],
   "source": [
    "data.shape"
   ]
  },
  {
   "cell_type": "code",
   "execution_count": 36,
   "metadata": {},
   "outputs": [],
   "source": [
    "lable_yes=np.full(len(yes),1)"
   ]
  },
  {
   "cell_type": "code",
   "execution_count": 38,
   "metadata": {
    "collapsed": true
   },
   "outputs": [],
   "source": [
    "lable_no=np.full(len(no),0)"
   ]
  },
  {
   "cell_type": "code",
   "execution_count": 48,
   "metadata": {},
   "outputs": [],
   "source": [
    "Image_data=[]\n",
    "\n",
    "for i in yes:\n",
    "    img=cv2.imread('./brain_tumor_dataset/yes/'+i)\n",
    "    re_im=cv2.resize(img,(32,32))\n",
    "    [r,g,b]=cv2.split(re_im)\n",
    "    Image_data.append(cv2.merge([r,g,b]))"
   ]
  },
  {
   "cell_type": "code",
   "execution_count": 49,
   "metadata": {},
   "outputs": [
    {
     "data": {
      "text/plain": [
       "155"
      ]
     },
     "execution_count": 49,
     "metadata": {},
     "output_type": "execute_result"
    }
   ],
   "source": [
    "len(Image_data)"
   ]
  },
  {
   "cell_type": "code",
   "execution_count": 50,
   "metadata": {
    "collapsed": true
   },
   "outputs": [],
   "source": [
    "\n",
    "\n",
    "for i in no:\n",
    "    img=cv2.imread('./brain_tumor_dataset/no/'+i)\n",
    "    re_im=cv2.resize(img,(32,32))\n",
    "    [r,g,b]=cv2.split(re_im)\n",
    "    Image_data.append(cv2.merge([r,g,b]))"
   ]
  },
  {
   "cell_type": "code",
   "execution_count": 51,
   "metadata": {},
   "outputs": [
    {
     "data": {
      "text/plain": [
       "253"
      ]
     },
     "execution_count": 51,
     "metadata": {},
     "output_type": "execute_result"
    }
   ],
   "source": [
    "len(Image_data)"
   ]
  },
  {
   "cell_type": "code",
   "execution_count": 53,
   "metadata": {},
   "outputs": [
    {
     "data": {
      "text/plain": [
       "True"
      ]
     },
     "execution_count": 53,
     "metadata": {},
     "output_type": "execute_result"
    }
   ],
   "source": [
    "len(data)==len(Image_data) # both are equvel "
   ]
  },
  {
   "cell_type": "code",
   "execution_count": 55,
   "metadata": {},
   "outputs": [],
   "source": [
    "X=np.squeeze(Image_data)"
   ]
  },
  {
   "cell_type": "code",
   "execution_count": 58,
   "metadata": {},
   "outputs": [
    {
     "data": {
      "text/plain": [
       "(253, 32, 32, 3)"
      ]
     },
     "execution_count": 58,
     "metadata": {},
     "output_type": "execute_result"
    }
   ],
   "source": [
    "X.shape"
   ]
  },
  {
   "cell_type": "code",
   "execution_count": 61,
   "metadata": {
    "collapsed": true
   },
   "outputs": [],
   "source": [
    "X=(X.astype('float32'))/255"
   ]
  },
  {
   "cell_type": "code",
   "execution_count": 63,
   "metadata": {},
   "outputs": [
    {
     "data": {
      "text/plain": [
       "(253, 32, 32, 3)"
      ]
     },
     "execution_count": 63,
     "metadata": {},
     "output_type": "execute_result"
    }
   ],
   "source": [
    "X.shape"
   ]
  },
  {
   "cell_type": "code",
   "execution_count": 64,
   "metadata": {
    "collapsed": true
   },
   "outputs": [],
   "source": [
    "data_target=np.concatenate([lable_yes,lable_no])"
   ]
  },
  {
   "cell_type": "code",
   "execution_count": 65,
   "metadata": {
    "collapsed": true
   },
   "outputs": [],
   "source": [
    "(x_train,y_train),(x_test,y_test)=(X[:200],data_target[0:200]),(X[200:],data_target[200:])"
   ]
  },
  {
   "cell_type": "code",
   "execution_count": 66,
   "metadata": {
    "collapsed": true
   },
   "outputs": [],
   "source": [
    "(x_valid , y_valid) = (X[:63], data_target[:63])"
   ]
  },
  {
   "cell_type": "code",
   "execution_count": 68,
   "metadata": {
    "collapsed": true
   },
   "outputs": [],
   "source": [
    "import tensorflow as tf"
   ]
  },
  {
   "cell_type": "code",
   "execution_count": 72,
   "metadata": {},
   "outputs": [
    {
     "name": "stdout",
     "output_type": "stream",
     "text": [
      "Model: \"sequential_3\"\n",
      "_________________________________________________________________\n",
      "Layer (type)                 Output Shape              Param #   \n",
      "=================================================================\n",
      "conv2d_4 (Conv2D)            (None, 32, 32, 16)        3904      \n",
      "_________________________________________________________________\n",
      "max_pooling2d_3 (MaxPooling2 (None, 16, 16, 16)        0         \n",
      "_________________________________________________________________\n",
      "dropout_4 (Dropout)          (None, 16, 16, 16)        0         \n",
      "_________________________________________________________________\n",
      "conv2d_5 (Conv2D)            (None, 16, 16, 16)        20752     \n",
      "_________________________________________________________________\n",
      "max_pooling2d_4 (MaxPooling2 (None, 8, 8, 16)          0         \n",
      "_________________________________________________________________\n",
      "dropout_5 (Dropout)          (None, 8, 8, 16)          0         \n",
      "_________________________________________________________________\n",
      "conv2d_6 (Conv2D)            (None, 8, 8, 16)          20752     \n",
      "_________________________________________________________________\n",
      "max_pooling2d_5 (MaxPooling2 (None, 4, 4, 16)          0         \n",
      "_________________________________________________________________\n",
      "dropout_6 (Dropout)          (None, 4, 4, 16)          0         \n",
      "_________________________________________________________________\n",
      "flatten_1 (Flatten)          (None, 256)               0         \n",
      "_________________________________________________________________\n",
      "dense_2 (Dense)              (None, 512)               131584    \n",
      "_________________________________________________________________\n",
      "dropout_7 (Dropout)          (None, 512)               0         \n",
      "_________________________________________________________________\n",
      "dense_3 (Dense)              (None, 1)                 513       \n",
      "=================================================================\n",
      "Total params: 177,505\n",
      "Trainable params: 177,505\n",
      "Non-trainable params: 0\n",
      "_________________________________________________________________\n"
     ]
    }
   ],
   "source": [
    "\n",
    "model=tf.keras.Sequential()\n",
    "\n",
    "model.add(tf.keras.layers.Conv2D(filters=16,kernel_size=9,padding='same',activation='relu',input_shape=(32,32,3)))\n",
    "model.add(tf.keras.layers.MaxPooling2D(pool_size=2))\n",
    "model.add(tf.keras.layers.Dropout(0.45))\n",
    "\n",
    "model.add(tf.keras.layers.Conv2D(filters=16,kernel_size=9,padding='same',activation='relu'))\n",
    "model.add(tf.keras.layers.MaxPooling2D(pool_size=2))\n",
    "model.add(tf.keras.layers.Dropout(0.25))\n",
    "\n",
    "model.add(tf.keras.layers.Conv2D(filters=16,kernel_size=9,padding='same',activation='relu'))\n",
    "model.add(tf.keras.layers.MaxPooling2D(pool_size=2))\n",
    "model.add(tf.keras.layers.Dropout(0.25))\n",
    "\n",
    "model.add(tf.keras.layers.Flatten())\n",
    "\n",
    "model.add(tf.keras.layers.Dense(512,activation='relu'))\n",
    "model.add(tf.keras.layers.Dropout(0.15))\n",
    "\n",
    "model.add(tf.keras.layers.Dense(1,activation='sigmoid'))\n",
    "\n",
    "model.summary()\n",
    "\n",
    "model.compile(loss='binary_crossentropy',optimizer=tf.keras.optimizers.Adam(),metrics=['acc'])\n",
    "\n"
   ]
  },
  {
   "cell_type": "code",
   "execution_count": 73,
   "metadata": {},
   "outputs": [
    {
     "name": "stdout",
     "output_type": "stream",
     "text": [
      "Train on 200 samples, validate on 63 samples\n",
      "Epoch 1/100\n",
      "200/200 [==============================] - 7s 36ms/sample - loss: 0.5888 - acc: 0.6850 - val_loss: 0.4769 - val_acc: 1.0000\n",
      "Epoch 2/100\n",
      "200/200 [==============================] - 2s 9ms/sample - loss: 0.5218 - acc: 0.7750 - val_loss: 0.2503 - val_acc: 1.0000\n",
      "Epoch 3/100\n",
      "200/200 [==============================] - 1s 7ms/sample - loss: 0.5365 - acc: 0.7750 - val_loss: 0.5287 - val_acc: 1.0000\n",
      "Epoch 4/100\n",
      "200/200 [==============================] - 1s 6ms/sample - loss: 0.5381 - acc: 0.7750 - val_loss: 0.3646 - val_acc: 1.0000\n",
      "Epoch 5/100\n",
      "200/200 [==============================] - 1s 5ms/sample - loss: 0.4948 - acc: 0.7750 - val_loss: 0.3049 - val_acc: 1.0000\n",
      "Epoch 6/100\n",
      "200/200 [==============================] - 1s 5ms/sample - loss: 0.5048 - acc: 0.7750 - val_loss: 0.3529 - val_acc: 1.0000\n",
      "Epoch 7/100\n",
      "200/200 [==============================] - 1s 4ms/sample - loss: 0.4811 - acc: 0.7750 - val_loss: 0.4790 - val_acc: 1.0000\n",
      "Epoch 8/100\n",
      "200/200 [==============================] - 1s 4ms/sample - loss: 0.5156 - acc: 0.7750 - val_loss: 0.3806 - val_acc: 1.0000\n",
      "Epoch 9/100\n",
      "200/200 [==============================] - 1s 4ms/sample - loss: 0.4719 - acc: 0.7750 - val_loss: 0.3286 - val_acc: 1.0000\n",
      "Epoch 10/100\n",
      "200/200 [==============================] - 1s 5ms/sample - loss: 0.4511 - acc: 0.7750 - val_loss: 0.3463 - val_acc: 1.0000\n",
      "Epoch 11/100\n",
      "200/200 [==============================] - 1s 4ms/sample - loss: 0.4486 - acc: 0.7850 - val_loss: 0.2880 - val_acc: 0.9841\n",
      "Epoch 12/100\n",
      "200/200 [==============================] - 1s 4ms/sample - loss: 0.4437 - acc: 0.8150 - val_loss: 0.2916 - val_acc: 0.9206\n",
      "Epoch 13/100\n",
      "200/200 [==============================] - 1s 4ms/sample - loss: 0.4645 - acc: 0.8100 - val_loss: 0.2150 - val_acc: 0.9841\n",
      "Epoch 14/100\n",
      "200/200 [==============================] - 1s 4ms/sample - loss: 0.4281 - acc: 0.8150 - val_loss: 0.3637 - val_acc: 0.9365\n",
      "Epoch 15/100\n",
      "200/200 [==============================] - 1s 4ms/sample - loss: 0.4441 - acc: 0.8150 - val_loss: 0.3011 - val_acc: 0.9206\n",
      "Epoch 16/100\n",
      "200/200 [==============================] - 1s 4ms/sample - loss: 0.3969 - acc: 0.8550 - val_loss: 0.2591 - val_acc: 0.9365\n",
      "Epoch 17/100\n",
      "200/200 [==============================] - 1s 4ms/sample - loss: 0.3910 - acc: 0.8500 - val_loss: 0.3453 - val_acc: 0.9206\n",
      "Epoch 18/100\n",
      "200/200 [==============================] - 1s 5ms/sample - loss: 0.4047 - acc: 0.8500 - val_loss: 0.2166 - val_acc: 0.9683\n",
      "Epoch 19/100\n",
      "200/200 [==============================] - 1s 4ms/sample - loss: 0.4152 - acc: 0.8500 - val_loss: 0.2429 - val_acc: 0.9683\n",
      "Epoch 20/100\n",
      "200/200 [==============================] - 1s 4ms/sample - loss: 0.3961 - acc: 0.8450 - val_loss: 0.2344 - val_acc: 0.9841\n",
      "Epoch 21/100\n",
      "200/200 [==============================] - 1s 4ms/sample - loss: 0.4000 - acc: 0.8450 - val_loss: 0.2380 - val_acc: 0.9683\n",
      "Epoch 22/100\n",
      "200/200 [==============================] - 1s 5ms/sample - loss: 0.3954 - acc: 0.8600 - val_loss: 0.1389 - val_acc: 0.9841\n",
      "Epoch 23/100\n",
      "200/200 [==============================] - 1s 4ms/sample - loss: 0.3885 - acc: 0.8450 - val_loss: 0.2398 - val_acc: 0.9683\n",
      "Epoch 24/100\n",
      "200/200 [==============================] - 1s 4ms/sample - loss: 0.3784 - acc: 0.8450 - val_loss: 0.2045 - val_acc: 0.9683\n",
      "Epoch 25/100\n",
      "200/200 [==============================] - 1s 5ms/sample - loss: 0.3611 - acc: 0.8550 - val_loss: 0.1640 - val_acc: 0.9841\n",
      "Epoch 26/100\n",
      "200/200 [==============================] - 1s 5ms/sample - loss: 0.3771 - acc: 0.8350 - val_loss: 0.2105 - val_acc: 0.9683\n",
      "Epoch 27/100\n",
      "200/200 [==============================] - 1s 5ms/sample - loss: 0.3628 - acc: 0.8450 - val_loss: 0.1536 - val_acc: 0.9683\n",
      "Epoch 28/100\n",
      "200/200 [==============================] - 1s 5ms/sample - loss: 0.3678 - acc: 0.8400 - val_loss: 0.1576 - val_acc: 0.9841\n",
      "Epoch 29/100\n",
      "200/200 [==============================] - 1s 5ms/sample - loss: 0.3722 - acc: 0.8400 - val_loss: 0.2119 - val_acc: 0.9841\n",
      "Epoch 30/100\n",
      "200/200 [==============================] - 1s 7ms/sample - loss: 0.3496 - acc: 0.8450 - val_loss: 0.1611 - val_acc: 0.9683\n",
      "Epoch 31/100\n",
      "200/200 [==============================] - 2s 10ms/sample - loss: 0.3326 - acc: 0.8500 - val_loss: 0.1160 - val_acc: 0.9841\n",
      "Epoch 32/100\n",
      "200/200 [==============================] - 1s 6ms/sample - loss: 0.3396 - acc: 0.8650 - val_loss: 0.2073 - val_acc: 0.9524\n",
      "Epoch 33/100\n",
      "200/200 [==============================] - 1s 6ms/sample - loss: 0.3242 - acc: 0.8600 - val_loss: 0.1051 - val_acc: 1.0000\n",
      "Epoch 34/100\n",
      "200/200 [==============================] - 1s 5ms/sample - loss: 0.3160 - acc: 0.8550 - val_loss: 0.1787 - val_acc: 0.9524\n",
      "Epoch 35/100\n",
      "200/200 [==============================] - 1s 5ms/sample - loss: 0.3068 - acc: 0.8650 - val_loss: 0.1197 - val_acc: 0.9841\n",
      "Epoch 36/100\n",
      "200/200 [==============================] - 1s 5ms/sample - loss: 0.2723 - acc: 0.8800 - val_loss: 0.1216 - val_acc: 0.9841\n",
      "Epoch 37/100\n",
      "200/200 [==============================] - 1s 6ms/sample - loss: 0.2756 - acc: 0.9000 - val_loss: 0.2243 - val_acc: 0.9365\n",
      "Epoch 38/100\n",
      "200/200 [==============================] - 1s 5ms/sample - loss: 0.3089 - acc: 0.8800 - val_loss: 0.1803 - val_acc: 0.9524\n",
      "Epoch 39/100\n",
      "200/200 [==============================] - 1s 5ms/sample - loss: 0.2545 - acc: 0.9150 - val_loss: 0.1534 - val_acc: 0.9683\n",
      "Epoch 40/100\n",
      "200/200 [==============================] - 1s 5ms/sample - loss: 0.2479 - acc: 0.8950 - val_loss: 0.0570 - val_acc: 1.0000\n",
      "Epoch 41/100\n",
      "200/200 [==============================] - 1s 5ms/sample - loss: 0.2259 - acc: 0.9200 - val_loss: 0.1305 - val_acc: 0.9683\n",
      "Epoch 42/100\n",
      "200/200 [==============================] - 1s 5ms/sample - loss: 0.2172 - acc: 0.9250 - val_loss: 0.2295 - val_acc: 0.9048\n",
      "Epoch 43/100\n",
      "200/200 [==============================] - 1s 5ms/sample - loss: 0.2248 - acc: 0.9200 - val_loss: 0.0245 - val_acc: 1.0000\n",
      "Epoch 44/100\n",
      "200/200 [==============================] - 1s 5ms/sample - loss: 0.2410 - acc: 0.8950 - val_loss: 0.1467 - val_acc: 0.9524\n",
      "Epoch 45/100\n",
      "200/200 [==============================] - 1s 5ms/sample - loss: 0.2017 - acc: 0.9200 - val_loss: 0.0550 - val_acc: 0.9841\n",
      "Epoch 46/100\n",
      "200/200 [==============================] - 1s 5ms/sample - loss: 0.1835 - acc: 0.9350 - val_loss: 0.0486 - val_acc: 0.9841\n",
      "Epoch 47/100\n",
      "200/200 [==============================] - 1s 6ms/sample - loss: 0.1841 - acc: 0.9250 - val_loss: 0.0812 - val_acc: 0.9841\n",
      "Epoch 48/100\n",
      "200/200 [==============================] - 1s 5ms/sample - loss: 0.1861 - acc: 0.9300 - val_loss: 0.0816 - val_acc: 0.9841\n",
      "Epoch 49/100\n",
      "200/200 [==============================] - 1s 5ms/sample - loss: 0.1437 - acc: 0.9450 - val_loss: 0.0474 - val_acc: 1.0000\n",
      "Epoch 50/100\n",
      "200/200 [==============================] - 1s 6ms/sample - loss: 0.1620 - acc: 0.9450 - val_loss: 0.0207 - val_acc: 1.0000\n",
      "Epoch 51/100\n",
      "200/200 [==============================] - 1s 6ms/sample - loss: 0.1407 - acc: 0.9300 - val_loss: 0.1641 - val_acc: 0.9841\n",
      "Epoch 52/100\n",
      "200/200 [==============================] - 1s 5ms/sample - loss: 0.1685 - acc: 0.9200 - val_loss: 0.0239 - val_acc: 1.0000\n",
      "Epoch 53/100\n",
      "200/200 [==============================] - 1s 5ms/sample - loss: 0.1442 - acc: 0.9450 - val_loss: 0.0261 - val_acc: 1.0000\n",
      "Epoch 54/100\n",
      "200/200 [==============================] - 1s 5ms/sample - loss: 0.1360 - acc: 0.9500 - val_loss: 0.0219 - val_acc: 1.0000\n",
      "Epoch 55/100\n",
      "200/200 [==============================] - 1s 5ms/sample - loss: 0.1568 - acc: 0.9150 - val_loss: 0.0462 - val_acc: 1.0000\n",
      "Epoch 56/100\n",
      "200/200 [==============================] - 1s 5ms/sample - loss: 0.1315 - acc: 0.9550 - val_loss: 0.0145 - val_acc: 1.0000\n",
      "Epoch 57/100\n",
      "200/200 [==============================] - 1s 5ms/sample - loss: 0.1327 - acc: 0.9400 - val_loss: 0.0507 - val_acc: 1.0000\n",
      "Epoch 58/100\n",
      "200/200 [==============================] - 1s 5ms/sample - loss: 0.0961 - acc: 0.9700 - val_loss: 0.0084 - val_acc: 1.0000\n",
      "Epoch 59/100\n",
      "200/200 [==============================] - 1s 5ms/sample - loss: 0.1573 - acc: 0.9400 - val_loss: 0.0132 - val_acc: 1.0000\n",
      "Epoch 60/100\n",
      "200/200 [==============================] - 1s 5ms/sample - loss: 0.0956 - acc: 0.9650 - val_loss: 0.0876 - val_acc: 0.9841\n"
     ]
    },
    {
     "name": "stdout",
     "output_type": "stream",
     "text": [
      "Epoch 61/100\n",
      "200/200 [==============================] - 1s 5ms/sample - loss: 0.1414 - acc: 0.9450 - val_loss: 0.0146 - val_acc: 1.0000\n",
      "Epoch 62/100\n",
      "200/200 [==============================] - 1s 5ms/sample - loss: 0.1094 - acc: 0.9600 - val_loss: 0.0285 - val_acc: 1.0000\n",
      "Epoch 63/100\n",
      "200/200 [==============================] - 1s 4ms/sample - loss: 0.1117 - acc: 0.9650 - val_loss: 0.0574 - val_acc: 0.9841\n",
      "Epoch 64/100\n",
      "200/200 [==============================] - 1s 4ms/sample - loss: 0.1335 - acc: 0.9500 - val_loss: 0.0419 - val_acc: 1.0000\n",
      "Epoch 65/100\n",
      "200/200 [==============================] - 1s 5ms/sample - loss: 0.1777 - acc: 0.9100 - val_loss: 0.0258 - val_acc: 1.0000\n",
      "Epoch 66/100\n",
      "200/200 [==============================] - 1s 5ms/sample - loss: 0.0888 - acc: 0.9700 - val_loss: 0.0314 - val_acc: 1.0000\n",
      "Epoch 67/100\n",
      "200/200 [==============================] - 1s 5ms/sample - loss: 0.0704 - acc: 0.9700 - val_loss: 0.0430 - val_acc: 1.0000\n",
      "Epoch 68/100\n",
      "200/200 [==============================] - 1s 5ms/sample - loss: 0.0879 - acc: 0.9700 - val_loss: 0.0098 - val_acc: 1.0000\n",
      "Epoch 69/100\n",
      "200/200 [==============================] - 1s 5ms/sample - loss: 0.0884 - acc: 0.9550 - val_loss: 0.0520 - val_acc: 1.0000\n",
      "Epoch 70/100\n",
      "200/200 [==============================] - 1s 5ms/sample - loss: 0.1168 - acc: 0.9450 - val_loss: 0.0069 - val_acc: 1.0000\n",
      "Epoch 71/100\n",
      "200/200 [==============================] - 1s 4ms/sample - loss: 0.1030 - acc: 0.9800 - val_loss: 0.0234 - val_acc: 1.0000\n",
      "Epoch 72/100\n",
      "200/200 [==============================] - 1s 4ms/sample - loss: 0.0410 - acc: 0.9850 - val_loss: 0.0068 - val_acc: 1.0000\n",
      "Epoch 73/100\n",
      "200/200 [==============================] - 1s 5ms/sample - loss: 0.0784 - acc: 0.9750 - val_loss: 0.0084 - val_acc: 1.0000\n",
      "Epoch 74/100\n",
      "200/200 [==============================] - 1s 5ms/sample - loss: 0.0369 - acc: 0.9900 - val_loss: 0.0113 - val_acc: 1.0000\n",
      "Epoch 75/100\n",
      "200/200 [==============================] - 1s 5ms/sample - loss: 0.0225 - acc: 0.9950 - val_loss: 0.0066 - val_acc: 1.0000\n",
      "Epoch 76/100\n",
      "200/200 [==============================] - 1s 5ms/sample - loss: 0.0414 - acc: 0.9850 - val_loss: 0.0133 - val_acc: 1.0000\n",
      "Epoch 77/100\n",
      "200/200 [==============================] - 1s 5ms/sample - loss: 0.0289 - acc: 0.9900 - val_loss: 0.0022 - val_acc: 1.0000\n",
      "Epoch 78/100\n",
      "200/200 [==============================] - 1s 5ms/sample - loss: 0.0572 - acc: 0.9800 - val_loss: 0.0098 - val_acc: 1.0000\n",
      "Epoch 79/100\n",
      "200/200 [==============================] - 1s 5ms/sample - loss: 0.0732 - acc: 0.9650 - val_loss: 0.0016 - val_acc: 1.0000\n",
      "Epoch 80/100\n",
      "200/200 [==============================] - 1s 5ms/sample - loss: 0.0287 - acc: 0.9850 - val_loss: 0.0024 - val_acc: 1.0000\n",
      "Epoch 81/100\n",
      "200/200 [==============================] - 1s 5ms/sample - loss: 0.0188 - acc: 0.9900 - val_loss: 0.0030 - val_acc: 1.0000\n",
      "Epoch 82/100\n",
      "200/200 [==============================] - 1s 5ms/sample - loss: 0.0218 - acc: 0.9900 - val_loss: 0.0115 - val_acc: 1.0000\n",
      "Epoch 83/100\n",
      "200/200 [==============================] - 1s 5ms/sample - loss: 0.0252 - acc: 0.9900 - val_loss: 0.0043 - val_acc: 1.0000\n",
      "Epoch 84/100\n",
      "200/200 [==============================] - 1s 5ms/sample - loss: 0.0333 - acc: 0.9900 - val_loss: 9.2220e-04 - val_acc: 1.0000\n",
      "Epoch 85/100\n",
      "200/200 [==============================] - 1s 5ms/sample - loss: 0.0111 - acc: 1.0000 - val_loss: 0.0022 - val_acc: 1.0000\n",
      "Epoch 86/100\n",
      "200/200 [==============================] - 1s 5ms/sample - loss: 0.0266 - acc: 0.9900 - val_loss: 0.0022 - val_acc: 1.0000\n",
      "Epoch 87/100\n",
      "200/200 [==============================] - 1s 5ms/sample - loss: 0.0580 - acc: 0.9800 - val_loss: 0.0045 - val_acc: 1.0000\n",
      "Epoch 88/100\n",
      "200/200 [==============================] - 1s 5ms/sample - loss: 0.0958 - acc: 0.9400 - val_loss: 0.0066 - val_acc: 1.0000\n",
      "Epoch 89/100\n",
      "200/200 [==============================] - 1s 5ms/sample - loss: 0.0627 - acc: 0.9750 - val_loss: 0.0135 - val_acc: 1.0000\n",
      "Epoch 90/100\n",
      "200/200 [==============================] - 1s 5ms/sample - loss: 0.0518 - acc: 0.9850 - val_loss: 0.0018 - val_acc: 1.0000\n",
      "Epoch 91/100\n",
      "200/200 [==============================] - 1s 5ms/sample - loss: 0.0570 - acc: 0.9800 - val_loss: 0.0160 - val_acc: 1.0000\n",
      "Epoch 92/100\n",
      "200/200 [==============================] - 1s 5ms/sample - loss: 0.0370 - acc: 0.9850 - val_loss: 0.0019 - val_acc: 1.0000\n",
      "Epoch 93/100\n",
      "200/200 [==============================] - 1s 5ms/sample - loss: 0.0277 - acc: 0.9950 - val_loss: 0.0066 - val_acc: 1.0000\n",
      "Epoch 94/100\n",
      "200/200 [==============================] - 1s 5ms/sample - loss: 0.0242 - acc: 0.9950 - val_loss: 0.0059 - val_acc: 1.0000\n",
      "Epoch 95/100\n",
      "200/200 [==============================] - 1s 5ms/sample - loss: 0.0157 - acc: 0.9950 - val_loss: 0.0045 - val_acc: 1.0000\n",
      "Epoch 96/100\n",
      "200/200 [==============================] - 1s 5ms/sample - loss: 0.0236 - acc: 0.9900 - val_loss: 0.0044 - val_acc: 1.0000\n",
      "Epoch 97/100\n",
      "200/200 [==============================] - 1s 5ms/sample - loss: 0.0205 - acc: 0.9950 - val_loss: 0.0034 - val_acc: 1.0000\n",
      "Epoch 98/100\n",
      "200/200 [==============================] - 1s 5ms/sample - loss: 0.0148 - acc: 0.9950 - val_loss: 0.0036 - val_acc: 1.0000\n",
      "Epoch 99/100\n",
      "200/200 [==============================] - 1s 5ms/sample - loss: 0.0490 - acc: 0.9900 - val_loss: 8.4279e-04 - val_acc: 1.0000\n",
      "Epoch 100/100\n",
      "200/200 [==============================] - 1s 5ms/sample - loss: 0.0304 - acc: 0.9900 - val_loss: 0.0022 - val_acc: 1.0000\n"
     ]
    },
    {
     "data": {
      "text/plain": [
       "<tensorflow.python.keras.callbacks.History at 0x1a5e1a58>"
      ]
     },
     "execution_count": 73,
     "metadata": {},
     "output_type": "execute_result"
    }
   ],
   "source": [
    "model.fit(x_train,y_train,batch_size=32,epochs=100,validation_data=(x_valid , y_valid),)"
   ]
  },
  {
   "cell_type": "code",
   "execution_count": 74,
   "metadata": {
    "collapsed": true
   },
   "outputs": [],
   "source": [
    "score=model.evaluate(x_test,y_test,verbose=0)"
   ]
  },
  {
   "cell_type": "code",
   "execution_count": 75,
   "metadata": {},
   "outputs": [
    {
     "data": {
      "text/plain": [
       "[2.804633360988689, 0.6792453]"
      ]
     },
     "execution_count": 75,
     "metadata": {},
     "output_type": "execute_result"
    }
   ],
   "source": [
    "score"
   ]
  },
  {
   "cell_type": "code",
   "execution_count": 76,
   "metadata": {},
   "outputs": [
    {
     "name": "stdout",
     "output_type": "stream",
     "text": [
      "\n",
      " Test accuracy: 0.6792453\n"
     ]
    }
   ],
   "source": [
    "print('\\n', 'Test accuracy:', score[1])"
   ]
  },
  {
   "cell_type": "code",
   "execution_count": 77,
   "metadata": {
    "collapsed": true
   },
   "outputs": [],
   "source": [
    "y_predict=model.predict(x_test)"
   ]
  },
  {
   "cell_type": "code",
   "execution_count": 97,
   "metadata": {},
   "outputs": [
    {
     "data": {
      "text/plain": [
       "(53, 1)"
      ]
     },
     "execution_count": 97,
     "metadata": {},
     "output_type": "execute_result"
    }
   ],
   "source": [
    "y_predict.shape"
   ]
  },
  {
   "cell_type": "code",
   "execution_count": 83,
   "metadata": {},
   "outputs": [
    {
     "name": "stdout",
     "output_type": "stream",
     "text": [
      "0 33\n",
      "1 45\n",
      "2 4\n",
      "3 17\n",
      "4 3\n",
      "5 7\n",
      "6 39\n",
      "7 51\n",
      "8 42\n",
      "9 31\n",
      "10 16\n",
      "11 49\n",
      "12 30\n",
      "13 8\n",
      "14 32\n"
     ]
    }
   ],
   "source": [
    "for i, index in enumerate(np.random.choice(x_test.shape[0], size=15, replace=False)):\n",
    "    print(i,index)"
   ]
  },
  {
   "cell_type": "code",
   "execution_count": 81,
   "metadata": {
    "collapsed": true
   },
   "outputs": [],
   "source": [
    "labels =[\"Yes\",  # index 0\n",
    "        \"No\",      # index 1\n",
    "        ]"
   ]
  },
  {
   "cell_type": "code",
   "execution_count": 82,
   "metadata": {},
   "outputs": [
    {
     "data": {
      "image/png": "[encoded data removed]",
      "text/plain": [
       "<Figure size 1440x576 with 15 Axes>"
      ]
     },
     "metadata": {},
     "output_type": "display_data"
    }
   ],
   "source": [
    "# Plot a random sample of 10 test images, their predicted labels and ground truth\n",
    "figure = plt.figure(figsize=(20, 8))\n",
    "for i, index in enumerate(np.random.choice(x_test.shape[0], size=15, replace=False)):\n",
    "    ax = figure.add_subplot(3, 5, i + 1, xticks=[], yticks=[])\n",
    "    # Display each image\n",
    "    ax.imshow(np.squeeze(x_test[index]))\n",
    "    predict_index = np.argmax(y_predict[index])\n",
    "    true_index = np.argmax(y_test[index])\n",
    "    # Set the title for each image\n",
    "    ax.set_title(\"{} ({})\".format(labels[predict_index], \n",
    "                                  labels[true_index]),\n",
    "                                  color=(\"green\" if predict_index == true_index else \"red\"))\n",
    "plt.show()\n"
   ]
  },
  {
   "cell_type": "code",
   "execution_count": 104,
   "metadata": {},
   "outputs": [],
   "source": [
    "predict_index = []\n",
    "\n",
    "for i in y_predict:\n",
    "    predict_index.append(np.argmax(i))\n"
   ]
  },
  {
   "cell_type": "code",
   "execution_count": 107,
   "metadata": {},
   "outputs": [
    {
     "data": {
      "text/plain": [
       "[0,\n",
       " 0,\n",
       " 0,\n",
       " 0,\n",
       " 0,\n",
       " 0,\n",
       " 0,\n",
       " 0,\n",
       " 0,\n",
       " 0,\n",
       " 0,\n",
       " 0,\n",
       " 0,\n",
       " 0,\n",
       " 0,\n",
       " 0,\n",
       " 0,\n",
       " 0,\n",
       " 0,\n",
       " 0,\n",
       " 0,\n",
       " 0,\n",
       " 0,\n",
       " 0,\n",
       " 0,\n",
       " 0,\n",
       " 0,\n",
       " 0,\n",
       " 0,\n",
       " 0,\n",
       " 0,\n",
       " 0,\n",
       " 0,\n",
       " 0,\n",
       " 0,\n",
       " 0,\n",
       " 0,\n",
       " 0,\n",
       " 0,\n",
       " 0,\n",
       " 0,\n",
       " 0,\n",
       " 0,\n",
       " 0,\n",
       " 0,\n",
       " 0,\n",
       " 0,\n",
       " 0,\n",
       " 0,\n",
       " 0,\n",
       " 0,\n",
       " 0,\n",
       " 0]"
      ]
     },
     "execution_count": 107,
     "metadata": {},
     "output_type": "execute_result"
    }
   ],
   "source": [
    "predict_index"
   ]
  },
  {
   "cell_type": "code",
   "execution_count": 108,
   "metadata": {},
   "outputs": [
    {
     "data": {
      "text/plain": [
       "array([0, 0, 0, 0, 0, 0, 0, 0, 0, 0, 0, 0, 0, 0, 0, 0, 0, 0, 0, 0, 0, 0,\n",
       "       0, 0, 0, 0, 0, 0, 0, 0, 0, 0, 0, 0, 0, 0, 0, 0, 0, 0, 0, 0, 0, 0,\n",
       "       0, 0, 0, 0, 0, 0, 0, 0, 0])"
      ]
     },
     "execution_count": 108,
     "metadata": {},
     "output_type": "execute_result"
    }
   ],
   "source": [
    "y_test"
   ]
  },
  {
   "cell_type": "code",
   "execution_count": 109,
   "metadata": {
    "collapsed": true
   },
   "outputs": [],
   "source": [
    "from sklearn.metrics import accuracy_score,confusion_matrix,classification_report\n"
   ]
  },
  {
   "cell_type": "code",
   "execution_count": 110,
   "metadata": {},
   "outputs": [
    {
     "name": "stdout",
     "output_type": "stream",
     "text": [
      "classification_report =               precision    recall  f1-score   support\n",
      "\n",
      "           0       1.00      1.00      1.00        53\n",
      "\n",
      "    accuracy                           1.00        53\n",
      "   macro avg       1.00      1.00      1.00        53\n",
      "weighted avg       1.00      1.00      1.00        53\n",
      "\n",
      "confusion_matrix = [[53]]\n",
      "accuracy_score = 100.0 \n"
     ]
    }
   ],
   "source": [
    "print('classification_report = {}'.format(classification_report(y_test,predict_index)))\n",
    "print('confusion_matrix = {}'.format(confusion_matrix(y_test,predict_index)))\n",
    "\n",
    "\n",
    "\n",
    "\n",
    "print('accuracy_score = {} '.format(accuracy_score(y_test,predict_index)*100))\n"
   ]
  },
  {
   "cell_type": "code",
   "execution_count": null,
   "metadata": {
    "collapsed": true
   },
   "outputs": [],
   "source": []
  }
 ],
 "metadata": {
  "kernelspec": {
   "display_name": "ml_proj",
   "language": "python",
   "name": "ml_proj"
  },
  "language_info": {
   "codemirror_mode": {
    "name": "ipython",
    "version": 3
   },
   "file_extension": ".py",
   "mimetype": "text/x-python",
   "name": "python",
   "nbconvert_exporter": "python",
   "pygments_lexer": "ipython3",
   "version": "3.6.2"
  }
 },
 "nbformat": 4,
 "nbformat_minor": 2
}
